{
 "cells": [
  {
   "cell_type": "code",
   "execution_count": 1,
   "id": "4c915f82",
   "metadata": {},
   "outputs": [],
   "source": [
    "import time\n",
    "\n",
    "import numpy as np\n",
    "import matplotlib as mpl\n",
    "import matplotlib.pyplot as plt\n",
    "import statsmodels.api as sm\n",
    "import pandas as pd\n",
    "import yfinance as yf"
   ]
  },
  {
   "cell_type": "code",
   "execution_count": null,
   "id": "7d0d50d3",
   "metadata": {},
   "outputs": [],
   "source": [
    "!pip install yfinance"
   ]
  },
  {
   "cell_type": "code",
   "execution_count": 2,
   "id": "979369f1",
   "metadata": {},
   "outputs": [
    {
     "name": "stdout",
     "output_type": "stream",
     "text": [
      "Digite o ticker da ação a ser analisada: AMZN\n",
      "Importando dados históricos de AMZN!\n"
     ]
    },
    {
     "name": "stderr",
     "output_type": "stream",
     "text": [
      "[*********************100%%**********************]  1 of 1 completed\n"
     ]
    },
    {
     "name": "stdout",
     "output_type": "stream",
     "text": [
      "Você deseja continuar? Você já importou 1 ativos! [S/N]S\n",
      "Digite o ticker da ação a ser analisada: GOOG\n",
      "Importando dados históricos de GOOG!\n"
     ]
    },
    {
     "name": "stderr",
     "output_type": "stream",
     "text": [
      "[*********************100%%**********************]  1 of 1 completed\n"
     ]
    },
    {
     "name": "stdout",
     "output_type": "stream",
     "text": [
      "Você deseja continuar? Você já importou 2 ativos! [S/N]S\n",
      "Digite o ticker da ação a ser analisada: MSFT\n",
      "Importando dados históricos de MSFT!\n"
     ]
    },
    {
     "name": "stderr",
     "output_type": "stream",
     "text": [
      "[*********************100%%**********************]  1 of 1 completed\n"
     ]
    },
    {
     "name": "stdout",
     "output_type": "stream",
     "text": [
      "Você deseja continuar? Você já importou 3 ativos! [S/N]S\n",
      "Digite o ticker da ação a ser analisada: NFLX\n",
      "Importando dados históricos de NFLX!\n"
     ]
    },
    {
     "name": "stderr",
     "output_type": "stream",
     "text": [
      "[*********************100%%**********************]  1 of 1 completed\n"
     ]
    },
    {
     "name": "stdout",
     "output_type": "stream",
     "text": [
      "Você deseja continuar? Você já importou 4 ativos! [S/N]N\n"
     ]
    }
   ],
   "source": [
    "n = 0\n",
    "data = pd.DataFrame()\n",
    "while True or n<5:\n",
    "    ativo = str(input('Digite o ticker da ação a ser analisada: ')).strip().upper()[0:4]\n",
    "    print(f'Importando dados históricos de {ativo}!')\n",
    "    time.sleep(0.5)\n",
    "    # Obtendo dados históricos de ações\n",
    "    try:\n",
    "        df1 = yf.download(ativo, start = '2010-01-01', end = '2021-03-29')\n",
    "        data[ativo] = df1['Adj Close']\n",
    "        n += 1\n",
    "    except:\n",
    "        print('Ativo não encontrado, digite um ticker válido!')\n",
    "\n",
    "    continua = str(input(f'Você deseja continuar? Você já importou {n} ativos! [S/N]')).strip().upper()[0]\n",
    "    while continua not in 'SN':\n",
    "        print('Resposta inválida!')\n",
    "        continua = str(input(f'Você deseja continuar? Você já importou {n} ativos! [S/N]')).strip().upper()[0]\n",
    "    if continua == 'N':\n",
    "        break"
   ]
  },
  {
   "cell_type": "code",
   "execution_count": 3,
   "id": "401801f0",
   "metadata": {},
   "outputs": [
    {
     "name": "stdout",
     "output_type": "stream",
     "text": [
      "                Open      High       Low     Close  Adj Close    Volume\n",
      "Date                                                                   \n",
      "2010-01-04  7.931429  7.961429  7.565714  7.640000   7.640000  17239600\n",
      "2010-01-05  7.652857  7.657143  7.258571  7.358571   7.358571  23753100\n",
      "2010-01-06  7.361429  7.672857  7.197143  7.617143   7.617143  23290400\n",
      "2010-01-07  7.731429  7.757143  7.462857  7.485714   7.485714   9955400\n",
      "2010-01-08  7.498571  7.742857  7.465714  7.614286   7.614286   8180900\n",
      "              AMZN       GOOG       MSFT      NFLX\n",
      "Date                                              \n",
      "2010-01-04  6.6950  15.610239  23.431597  7.640000\n",
      "2010-01-05  6.7345  15.541497  23.439163  7.358571\n",
      "2010-01-06  6.6125  15.149715  23.295321  7.617143\n",
      "2010-01-07  6.5000  14.797037  23.053051  7.485714\n",
      "2010-01-08  6.6760  14.994298  23.212034  7.614286\n",
      "                  AMZN        GOOG        MSFT        NFLX\n",
      "Date                                                      \n",
      "2021-03-22  155.543503  101.929497  229.922134  523.109985\n",
      "2021-03-23  156.875000  102.648003  231.471252  535.090027\n",
      "2021-03-24  154.353500  102.252998  229.405777  520.809998\n",
      "2021-03-25  152.313004  102.218002  226.365997  502.859985\n",
      "2021-03-26  152.601501  101.777496  230.399536  508.049988\n"
     ]
    }
   ],
   "source": [
    "print(df1.head())\n",
    "print(data.head())\n",
    "print(data.tail())"
   ]
  },
  {
   "cell_type": "code",
   "execution_count": 4,
   "id": "3720591f",
   "metadata": {},
   "outputs": [
    {
     "name": "stdout",
     "output_type": "stream",
     "text": [
      "(2827, 4)\n",
      "              AMZN         GOOG         MSFT         NFLX\n",
      "count  2827.000000  2827.000000  2827.000000  2827.000000\n",
      "mean     45.344056    37.314391    66.268602   153.788484\n",
      "std      43.627486    21.591824    55.769029   155.449006\n",
      "min       5.430500    10.861040    17.580818     7.018571\n",
      "25%      12.381500    17.223194    24.159722    30.542142\n",
      "50%      25.527500    31.280500    41.419891    91.930000\n",
      "75%      79.194500    53.854250    92.741024   288.669998\n",
      "max     176.572495   106.415497   238.142258   586.340027\n",
      "<bound method DataFrame.info of                   AMZN        GOOG        MSFT        NFLX\n",
      "Date                                                      \n",
      "2010-01-04    6.695000   15.610239   23.431597    7.640000\n",
      "2010-01-05    6.734500   15.541497   23.439163    7.358571\n",
      "2010-01-06    6.612500   15.149715   23.295321    7.617143\n",
      "2010-01-07    6.500000   14.797037   23.053051    7.485714\n",
      "2010-01-08    6.676000   14.994298   23.212034    7.614286\n",
      "...                ...         ...         ...         ...\n",
      "2021-03-22  155.543503  101.929497  229.922134  523.109985\n",
      "2021-03-23  156.875000  102.648003  231.471252  535.090027\n",
      "2021-03-24  154.353500  102.252998  229.405777  520.809998\n",
      "2021-03-25  152.313004  102.218002  226.365997  502.859985\n",
      "2021-03-26  152.601501  101.777496  230.399536  508.049988\n",
      "\n",
      "[2827 rows x 4 columns]>\n",
      "AMZN    0\n",
      "GOOG    0\n",
      "MSFT    0\n",
      "NFLX    0\n",
      "dtype: int64\n"
     ]
    }
   ],
   "source": [
    "# Análise exploratória\n",
    "print(data.shape)\n",
    "print(data.describe())\n",
    "print(data.info)\n",
    "print(data.isnull().sum())"
   ]
  },
  {
   "cell_type": "code",
   "execution_count": 5,
   "id": "19afa24a",
   "metadata": {},
   "outputs": [
    {
     "name": "stdout",
     "output_type": "stream",
     "text": [
      "          AMZN      GOOG      MSFT      NFLX\n",
      "AMZN  1.000000  0.962903  0.985108  0.986167\n",
      "GOOG  0.962903  1.000000  0.957286  0.960836\n",
      "MSFT  0.985108  0.957286  1.000000  0.965365\n",
      "NFLX  0.986167  0.960836  0.965365  1.000000\n"
     ]
    }
   ],
   "source": [
    "# tabela correlação\n",
    "correlacao = data.corr()\n",
    "print(correlacao)"
   ]
  },
  {
   "cell_type": "code",
   "execution_count": 6,
   "id": "37aa119c",
   "metadata": {},
   "outputs": [
    {
     "data": {
      "text/html": [
       "<div>\n",
       "<style scoped>\n",
       "    .dataframe tbody tr th:only-of-type {\n",
       "        vertical-align: middle;\n",
       "    }\n",
       "\n",
       "    .dataframe tbody tr th {\n",
       "        vertical-align: top;\n",
       "    }\n",
       "\n",
       "    .dataframe thead th {\n",
       "        text-align: right;\n",
       "    }\n",
       "</style>\n",
       "<table border=\"1\" class=\"dataframe\">\n",
       "  <thead>\n",
       "    <tr style=\"text-align: right;\">\n",
       "      <th></th>\n",
       "      <th>AMZN</th>\n",
       "      <th>GOOG</th>\n",
       "      <th>MSFT</th>\n",
       "      <th>NFLX</th>\n",
       "    </tr>\n",
       "    <tr>\n",
       "      <th>Date</th>\n",
       "      <th></th>\n",
       "      <th></th>\n",
       "      <th></th>\n",
       "      <th></th>\n",
       "    </tr>\n",
       "  </thead>\n",
       "  <tbody>\n",
       "    <tr>\n",
       "      <th>2010-01-04</th>\n",
       "      <td>NaN</td>\n",
       "      <td>NaN</td>\n",
       "      <td>NaN</td>\n",
       "      <td>NaN</td>\n",
       "    </tr>\n",
       "    <tr>\n",
       "      <th>2010-01-05</th>\n",
       "      <td>0.005900</td>\n",
       "      <td>-0.004404</td>\n",
       "      <td>0.000323</td>\n",
       "      <td>-0.036836</td>\n",
       "    </tr>\n",
       "    <tr>\n",
       "      <th>2010-01-06</th>\n",
       "      <td>-0.018116</td>\n",
       "      <td>-0.025209</td>\n",
       "      <td>-0.006137</td>\n",
       "      <td>0.035139</td>\n",
       "    </tr>\n",
       "    <tr>\n",
       "      <th>2010-01-07</th>\n",
       "      <td>-0.017013</td>\n",
       "      <td>-0.023280</td>\n",
       "      <td>-0.010400</td>\n",
       "      <td>-0.017254</td>\n",
       "    </tr>\n",
       "    <tr>\n",
       "      <th>2010-01-08</th>\n",
       "      <td>0.027077</td>\n",
       "      <td>0.013331</td>\n",
       "      <td>0.006896</td>\n",
       "      <td>0.017176</td>\n",
       "    </tr>\n",
       "    <tr>\n",
       "      <th>...</th>\n",
       "      <td>...</td>\n",
       "      <td>...</td>\n",
       "      <td>...</td>\n",
       "      <td>...</td>\n",
       "    </tr>\n",
       "    <tr>\n",
       "      <th>2021-03-22</th>\n",
       "      <td>0.011678</td>\n",
       "      <td>-0.002256</td>\n",
       "      <td>0.024484</td>\n",
       "      <td>0.021340</td>\n",
       "    </tr>\n",
       "    <tr>\n",
       "      <th>2021-03-23</th>\n",
       "      <td>0.008560</td>\n",
       "      <td>0.007049</td>\n",
       "      <td>0.006738</td>\n",
       "      <td>0.022902</td>\n",
       "    </tr>\n",
       "    <tr>\n",
       "      <th>2021-03-24</th>\n",
       "      <td>-0.016073</td>\n",
       "      <td>-0.003848</td>\n",
       "      <td>-0.008923</td>\n",
       "      <td>-0.026687</td>\n",
       "    </tr>\n",
       "    <tr>\n",
       "      <th>2021-03-25</th>\n",
       "      <td>-0.013220</td>\n",
       "      <td>-0.000342</td>\n",
       "      <td>-0.013251</td>\n",
       "      <td>-0.034466</td>\n",
       "    </tr>\n",
       "    <tr>\n",
       "      <th>2021-03-26</th>\n",
       "      <td>0.001894</td>\n",
       "      <td>-0.004309</td>\n",
       "      <td>0.017819</td>\n",
       "      <td>0.010321</td>\n",
       "    </tr>\n",
       "  </tbody>\n",
       "</table>\n",
       "<p>2827 rows × 4 columns</p>\n",
       "</div>"
      ],
      "text/plain": [
       "                AMZN      GOOG      MSFT      NFLX\n",
       "Date                                              \n",
       "2010-01-04       NaN       NaN       NaN       NaN\n",
       "2010-01-05  0.005900 -0.004404  0.000323 -0.036836\n",
       "2010-01-06 -0.018116 -0.025209 -0.006137  0.035139\n",
       "2010-01-07 -0.017013 -0.023280 -0.010400 -0.017254\n",
       "2010-01-08  0.027077  0.013331  0.006896  0.017176\n",
       "...              ...       ...       ...       ...\n",
       "2021-03-22  0.011678 -0.002256  0.024484  0.021340\n",
       "2021-03-23  0.008560  0.007049  0.006738  0.022902\n",
       "2021-03-24 -0.016073 -0.003848 -0.008923 -0.026687\n",
       "2021-03-25 -0.013220 -0.000342 -0.013251 -0.034466\n",
       "2021-03-26  0.001894 -0.004309  0.017819  0.010321\n",
       "\n",
       "[2827 rows x 4 columns]"
      ]
     },
     "execution_count": 6,
     "metadata": {},
     "output_type": "execute_result"
    }
   ],
   "source": [
    "#Obtendo os retornos diários por ativo\n",
    "retorno_ativo = data.pct_change()\n",
    "retorno_ativo"
   ]
  },
  {
   "cell_type": "code",
   "execution_count": 7,
   "id": "071c5ca2",
   "metadata": {
    "scrolled": true
   },
   "outputs": [
    {
     "name": "stdout",
     "output_type": "stream",
     "text": [
      "Qual o peso inicial a ser considerado para o ativo AMZN? 0.15\n",
      "Qual o peso inicial a ser considerado para o ativo GOOG? 0.4\n",
      "Qual o peso inicial a ser considerado para o ativo MSFT? 0.25\n",
      "Qual o peso inicial a ser considerado para o ativo NFLX? 0.2\n"
     ]
    },
    {
     "data": {
      "text/plain": [
       "[0.15, 0.4, 0.25, 0.2]"
      ]
     },
     "execution_count": 7,
     "metadata": {},
     "output_type": "execute_result"
    }
   ],
   "source": [
    "#Para calcular o retorno do porfolio como um todo, precisamos pensar na carteira como um todo, e para isso determinar o peso de cada ativo\n",
    "pesos = []\n",
    "for ativo in data:\n",
    "    pesos.append(float(input(f'Qual o peso inicial a ser considerado para o ativo {ativo}? ')))\n",
    "pesos"
   ]
  },
  {
   "cell_type": "code",
   "execution_count": 8,
   "id": "152bb824",
   "metadata": {},
   "outputs": [
    {
     "data": {
      "text/plain": [
       "AMZN     43.627486\n",
       "GOOG     21.591824\n",
       "MSFT     55.769029\n",
       "NFLX    155.449006\n",
       "dtype: float64"
      ]
     },
     "execution_count": 8,
     "metadata": {},
     "output_type": "execute_result"
    }
   ],
   "source": [
    "# Para tratar do risco, começaremos entendendo o desvio padrão de cada ativo isoladamente\n",
    "dvpd = data.std()\n",
    "dvpd"
   ]
  },
  {
   "cell_type": "code",
   "execution_count": 9,
   "id": "cb21fa73",
   "metadata": {},
   "outputs": [
    {
     "data": {
      "text/plain": [
       "AMZN    3.687124\n",
       "GOOG    2.256684\n",
       "MSFT    2.647921\n",
       "NFLX    5.675172\n",
       "dtype: float64"
      ]
     },
     "execution_count": 9,
     "metadata": {},
     "output_type": "execute_result"
    }
   ],
   "source": [
    "soma_retornos = retorno_ativo.sum()\n",
    "soma_retornos"
   ]
  },
  {
   "cell_type": "code",
   "execution_count": 10,
   "id": "d7704ed3",
   "metadata": {},
   "outputs": [
    {
     "name": "stdout",
     "output_type": "stream",
     "text": [
      "AMZN    0.001305\n",
      "GOOG    0.000799\n",
      "MSFT    0.000937\n",
      "NFLX    0.002008\n",
      "dtype: float64\n"
     ]
    },
    {
     "data": {
      "text/plain": [
       "AMZN    0.328788\n",
       "GOOG    0.201233\n",
       "MSFT    0.236120\n",
       "NFLX    0.506066\n",
       "dtype: float64"
      ]
     },
     "execution_count": 10,
     "metadata": {},
     "output_type": "execute_result"
    }
   ],
   "source": [
    "# Para calcular o risco da carteira seguindo a teoria, não basta apenas multiplicar o risco individual pelo respectivo peso, pois\n",
    "# é necessário considersr qual é o comportamento desses ativos em conjunto\n",
    "\n",
    "retorno_medio_diario = retorno_ativo.mean()\n",
    "print(retorno_medio_diario)\n",
    "retorno_anual =  retorno_medio_diario * 252 \n",
    "retorno_anual"
   ]
  },
  {
   "cell_type": "code",
   "execution_count": 11,
   "id": "47e55f91",
   "metadata": {},
   "outputs": [
    {
     "data": {
      "text/plain": [
       "0.2900547534068276"
      ]
     },
     "execution_count": 11,
     "metadata": {},
     "output_type": "execute_result"
    }
   ],
   "source": [
    "# Agora é possível calcular o retorno do portfolio\n",
    "retorno_portfolio = np.dot(retorno_anual, pesos)\n",
    "retorno_portfolio"
   ]
  },
  {
   "cell_type": "code",
   "execution_count": 12,
   "id": "18a5808c",
   "metadata": {},
   "outputs": [
    {
     "data": {
      "text/plain": [
       "array([[0.00039747, 0.00018877, 0.0001699 , 0.00027012],\n",
       "       [0.00018877, 0.00027141, 0.00016151, 0.00017998],\n",
       "       [0.0001699 , 0.00016151, 0.00025572, 0.00016058],\n",
       "       [0.00027012, 0.00017998, 0.00016058, 0.00105318]])"
      ]
     },
     "execution_count": 12,
     "metadata": {},
     "output_type": "execute_result"
    }
   ],
   "source": [
    "#Matriz de covariância\n",
    "matriz_cov = np.cov(retorno_ativo[1:].T)\n",
    "matriz_cov"
   ]
  },
  {
   "cell_type": "code",
   "execution_count": 13,
   "id": "259a7ab9",
   "metadata": {},
   "outputs": [
    {
     "data": {
      "text/plain": [
       "0.2455348614373226"
      ]
     },
     "execution_count": 13,
     "metadata": {},
     "output_type": "execute_result"
    }
   ],
   "source": [
    "#Calculando o risco do portfolio (anualizado) segundo a fórmula\n",
    "pesos = np.array(pesos)\n",
    "risco = np.sqrt(np.dot(pesos.T, np.dot(matriz_cov, pesos))) * np.sqrt(252)\n",
    "risco"
   ]
  },
  {
   "cell_type": "code",
   "execution_count": 14,
   "id": "d9b269b7",
   "metadata": {},
   "outputs": [
    {
     "data": {
      "text/plain": [
       "1.1813180079964718"
      ]
     },
     "execution_count": 14,
     "metadata": {},
     "output_type": "execute_result"
    }
   ],
   "source": [
    "# Cálculando o sharpe para efeito de exemplo com os pesos indicados\n",
    "sharpe_atual = (retorno_portfolio - 0)/risco\n",
    "sharpe_atual"
   ]
  },
  {
   "cell_type": "code",
   "execution_count": 15,
   "id": "23c32d01",
   "metadata": {},
   "outputs": [],
   "source": [
    "# Usando conceito de Sharpe Ratio para entender a atratividade do investimento e obter a melhor de distribuição de pesos para a carteira informada\n",
    "# Consideraremos o risco livre = 0 como padrão\n",
    "def simulando_carteiras(data, num_portfolios = 100000, risco_livre = 0):\n",
    "    pesos_port = []\n",
    "    retornos_port = []\n",
    "    var_port = []\n",
    "    sharpe_port = []\n",
    "    \n",
    "    # Retorno individual dos ativos\n",
    "    retorno_ativos = data.pct_change()\n",
    "    retorno_medio_anual = retorno_ativos.mean() * 252\n",
    "    \n",
    "    # Matriz de Covariância\n",
    "    matriz_cov = np.cov(retorno_ativos[1:].T)\n",
    "    \n",
    "    for i in range(num_portfolios):\n",
    "        # gerando pesos aleatórios\n",
    "        k = np.random.rand(len(data.columns))\n",
    "        pesos = k / sum (k)\n",
    "\n",
    "        # retorno\n",
    "        retorno_total = np.dot(retorno_medio_anual, pesos)\n",
    "\n",
    "        # risco\n",
    "        risco = np.sqrt(np.dot(pesos.T, np.dot(matriz_cov, pesos))) * np.sqrt(252)\n",
    "\n",
    "        # sharpe ratio\n",
    "        sharpe = (retorno_total - risco_livre)/risco\n",
    "\n",
    "        pesos_port.append(pesos)\n",
    "        retornos_port.append(retorno_total)\n",
    "        var_port.append(risco)\n",
    "        sharpe_port.append(sharpe)\n",
    "    \n",
    "    carteiras = {'pesos': pesos_port,\n",
    "              'retornos': retornos_port,\n",
    "              'risco': var_port,\n",
    "              'sharpe': sharpe_port}\n",
    "\n",
    "    return carteiras"
   ]
  },
  {
   "cell_type": "code",
   "execution_count": 16,
   "id": "173787c6",
   "metadata": {},
   "outputs": [],
   "source": [
    "# Encontrando a melhor carteira gerada\n",
    "def melhor_carteira(carteiras):\n",
    "    sharpe = carteiras['sharpe']\n",
    "    pesos = carteiras['pesos']\n",
    "    risco = carteiras['risco']\n",
    "    retorno = carteiras['retornos']\n",
    "    \n",
    "    indice_melhor_sharpe = np.array(sharpe).argmax()\n",
    "    \n",
    "    return sharpe[indice_melhor_sharpe],pesos[indice_melhor_sharpe], retorno[indice_melhor_sharpe],risco[indice_melhor_sharpe]"
   ]
  },
  {
   "cell_type": "code",
   "execution_count": 17,
   "id": "ecf0cbbf",
   "metadata": {},
   "outputs": [],
   "source": [
    "carteiras_port = simulando_carteiras(data)"
   ]
  },
  {
   "cell_type": "code",
   "execution_count": 18,
   "id": "0eec41b2",
   "metadata": {},
   "outputs": [
    {
     "data": {
      "text/plain": [
       "(1.2598435970114368,\n",
       " array([3.77293290e-01, 3.69041000e-04, 3.71548636e-01, 2.50789034e-01]),\n",
       " 0.3387698710412388,\n",
       " 0.2688983551965169)"
      ]
     },
     "execution_count": 18,
     "metadata": {},
     "output_type": "execute_result"
    }
   ],
   "source": [
    "melhor_carteira(carteiras_port)"
   ]
  },
  {
   "cell_type": "code",
   "execution_count": 19,
   "id": "6d82bf57",
   "metadata": {},
   "outputs": [],
   "source": [
    "def plot_efficient_frontier(wallets, retorno_atual = 0, risco_atual = 0, carteiras_mel = []):\n",
    "    vol = wallets['risco']\n",
    "    returns = wallets['retornos']\n",
    "    sharpe = wallets['sharpe']\n",
    "\n",
    "    indice = np.array(sharpe).argmax()\n",
    "    y_axis = returns[indice]\n",
    "    X_axis = vol[indice]\n",
    "    \n",
    "        \n",
    "    plt.scatter(vol, returns, c = sharpe, cmap = 'viridis')\n",
    "    if carteiras_mel == []:\n",
    "        indice = np.array(sharpe).argmax()\n",
    "        y_axis = returns[indice]\n",
    "        X_axis = vol[indice]\n",
    "        plt.scatter(X_axis, y_axis, c = 'red', s = 50)\n",
    "    else:\n",
    "        indice = np.array(carteiras_mel['sharpe']).argmax()\n",
    "        y_axis = carteiras_mel['retornos'][indice]\n",
    "        X_axis = carteiras_mel['risco'][indice]\n",
    "        plt.scatter(X_axis, y_axis, c = 'red', s = 50)\n",
    "\n",
    "    if risco_atual != 0:\n",
    "        y_axis2 = retorno_atual\n",
    "        X_axis2 = risco_atual\n",
    "        plt.scatter(X_axis2, y_axis2, c = 'black', s = 50)\n",
    "        # Criar artistas fictícios para a legenda\n",
    "        red_dot = plt.Line2D([0], [0], marker='o', color='w', markerfacecolor='red', markersize=10, label='Carteira com Maior Eficiência')\n",
    "        black_dot = plt.Line2D([0], [0], marker='o', color='w', markerfacecolor='black', markersize=10, label='Carteira Atual')\n",
    "\n",
    "        # Adicionar legenda manualmente\n",
    "        plt.legend(handles=[red_dot, black_dot])\n",
    "        \n",
    "    plt.title(\"Fronteira Eficiente\")\n",
    "    plt.xlabel(\"Volatilidade\")\n",
    "    plt.ylabel(\"Retorno Esperado\")\n",
    "    plt.show()"
   ]
  },
  {
   "cell_type": "code",
   "execution_count": 20,
   "id": "c90be8df",
   "metadata": {},
   "outputs": [
    {
     "data": {
      "image/png": "[encoded data removed]",
      "text/plain": [
       "<Figure size 640x480 with 1 Axes>"
      ]
     },
     "metadata": {},
     "output_type": "display_data"
    }
   ],
   "source": [
    "plot_efficient_frontier(carteiras_port)"
   ]
  },
  {
   "cell_type": "code",
   "execution_count": 23,
   "id": "959a77cd",
   "metadata": {},
   "outputs": [],
   "source": [
    "# Sabe-se que as estratégias podem variar conforme o investidor e seus objetivos de acordo com a tolerância ao risco\n",
    "# Procurando carteira com nível menor ou igual ao risco da carteira atual informada anteriormente\n",
    "\n",
    "def carteira_limitada_riscoatual(data, risco_max, retorno_atual,  num_portfolios = 10000000, risco_livre = 0):\n",
    "    pesos_port = []\n",
    "    retornos_port = []\n",
    "    var_port = []\n",
    "    sharpe_port = []\n",
    "    N = num_portfolios\n",
    "    \n",
    "    # Retorno individual dos ativos\n",
    "    retorno_ativos = data.pct_change()\n",
    "    retorno_medio_anual = retorno_ativos.mean() * 252\n",
    "    \n",
    "    # Matriz de Covariância\n",
    "    matriz_cov = np.cov(retorno_ativos[1:].T)\n",
    "    \n",
    "    i = 1\n",
    "    fim = 0\n",
    "    n = 1\n",
    "    risco_min = 2*risco_max\n",
    "    \n",
    "    while i <= 10 and fim <= 3 and n <= N*10:\n",
    "        \n",
    "        # gerando pesos aleatórios\n",
    "        k = np.random.rand(len(data.columns))\n",
    "        pesos = k / sum (k)\n",
    "        n +=1\n",
    "        \n",
    "        # risco\n",
    "        risco = np.sqrt(np.dot(pesos.T, np.dot(matriz_cov, pesos))) * np.sqrt(252)\n",
    "        \n",
    "        if risco <= risco_min:\n",
    "            risco_min = risco\n",
    "            # retorno\n",
    "            retorno_total_rmin = np.dot(retorno_medio_anual, pesos)\n",
    "            # sharpe ratio\n",
    "            sharpe_rmin = (retorno_total_rmin - risco_livre)/risco_min\n",
    "            pesos_min = pesos\n",
    "        \n",
    "        if risco<=risco_max:\n",
    "            i +=1\n",
    "            \n",
    "            # retorno\n",
    "            retorno_total = np.dot(retorno_medio_anual, pesos)\n",
    "\n",
    "            # sharpe ratio\n",
    "            sharpe = (retorno_total - risco_livre)/risco\n",
    "        \n",
    "            if retorno_total > retorno_atual:\n",
    "                pesos_port.append(pesos)\n",
    "                retornos_port.append(retorno_total)\n",
    "                var_port.append(risco)\n",
    "                sharpe_port.append(sharpe)\n",
    "                fim +=1\n",
    "                \n",
    "    carteiras = {'pesos': pesos_port,\n",
    "              'retornos': retornos_port,\n",
    "              'risco': var_port,\n",
    "              'sharpe': sharpe_port}\n",
    "    \n",
    "    if fim == 0:\n",
    "        print('Nenhuma carteira com retorno melhor e risco menor ou igual ao atual foi encontrada!')\n",
    "        print(f'''A carteira que teve valor mais próximo de risco foi: \\n\n",
    "        risco: {risco_min}\\n\n",
    "        retorno: {retorno_total_rmin}\\n\n",
    "        sharpe: {sharpe_rmin}\\n\n",
    "        pesos: {pesos_min}''')\n",
    "        \n",
    "    return carteiras"
   ]
  },
  {
   "cell_type": "code",
   "execution_count": 24,
   "id": "c4dea64d",
   "metadata": {},
   "outputs": [
    {
     "data": {
      "text/plain": [
       "{'pesos': [array([0.32645605, 0.32361885, 0.21494239, 0.13498271])],\n",
       " 'retornos': [0.2915201260015287],\n",
       " 'risco': [0.24429945845890777],\n",
       " 'sharpe': [1.1932901032220817]}"
      ]
     },
     "execution_count": 24,
     "metadata": {},
     "output_type": "execute_result"
    }
   ],
   "source": [
    "carteiras_melhores = carteira_limitada_riscoatual(data, risco, retorno_portfolio)\n",
    "carteiras_melhores"
   ]
  },
  {
   "cell_type": "code",
   "execution_count": 25,
   "id": "f3fd7c48",
   "metadata": {},
   "outputs": [
    {
     "data": {
      "image/png": "[encoded data removed]",
      "text/plain": [
       "<Figure size 640x480 with 1 Axes>"
      ]
     },
     "metadata": {},
     "output_type": "display_data"
    }
   ],
   "source": [
    "if carteiras_melhores['pesos'] != []:\n",
    "    plot_efficient_frontier(carteiras_port, retorno_portfolio, risco, carteiras_melhores)"
   ]
  },
  {
   "cell_type": "code",
   "execution_count": 26,
   "id": "86c9d6b7",
   "metadata": {},
   "outputs": [],
   "source": [
    "if carteiras_melhores['pesos'] != []:\n",
    "    melhor_carteira(carteiras_melhores)"
   ]
  },
  {
   "cell_type": "code",
   "execution_count": 28,
   "id": "ccbcec33",
   "metadata": {},
   "outputs": [],
   "source": [
    "if carteiras_melhores['pesos'] != []:\n",
    "    tab_comparacao = pd.DataFrame({'Carteira Atual': [sharpe_atual, retorno_portfolio, risco, pesos[:]], \n",
    "                               'Carteira Mais Eficiente': [melhor_carteira(carteiras_melhores)[0], melhor_carteira(carteiras_melhores)[2], melhor_carteira(carteiras_melhores)[3], melhor_carteira(carteiras_melhores)[1][:]],\n",
    "                              'Carteira Melhor Sharpe': [melhor_carteira(carteiras_port)[0], melhor_carteira(carteiras_port)[2], melhor_carteira(carteiras_port)[3], melhor_carteira(carteiras_port)[1][:]]})"
   ]
  },
  {
   "cell_type": "code",
   "execution_count": 29,
   "id": "8bb55590",
   "metadata": {},
   "outputs": [],
   "source": [
    "if carteiras_melhores['pesos'] != []:\n",
    "    tab_comparacao = tab_comparacao.explode(['Carteira Atual', 'Carteira Mais Eficiente', 'Carteira Melhor Sharpe'])"
   ]
  },
  {
   "cell_type": "code",
   "execution_count": 30,
   "id": "2931dbb5",
   "metadata": {},
   "outputs": [
    {
     "data": {
      "text/plain": [
       "['Sharpe', 'Retorno', 'Risco', 'AMZN', 'GOOG', 'MSFT', 'NFLX']"
      ]
     },
     "execution_count": 30,
     "metadata": {},
     "output_type": "execute_result"
    }
   ],
   "source": [
    "acoes = []\n",
    "for i in data.columns:\n",
    "    acoes.append(i)\n",
    "acoes\n",
    "indices = ['Sharpe', 'Retorno', 'Risco']\n",
    "for i in acoes:\n",
    "    indices.append(i)\n",
    "indices"
   ]
  },
  {
   "cell_type": "code",
   "execution_count": 31,
   "id": "09cfb2f8",
   "metadata": {},
   "outputs": [],
   "source": [
    "if carteiras_melhores['pesos'] != []:\n",
    "    tab_comparacao.index = indices"
   ]
  },
  {
   "cell_type": "code",
   "execution_count": 33,
   "id": "09e1179c",
   "metadata": {},
   "outputs": [
    {
     "name": "stdout",
     "output_type": "stream",
     "text": [
      "        Carteira Atual Carteira Mais Eficiente Carteira Melhor Sharpe\n",
      "Sharpe        1.181318                 1.19329               1.259844\n",
      "Retorno       0.290055                 0.29152                0.33877\n",
      "Risco         0.245535                0.244299               0.268898\n",
      "AMZN              0.15                0.326456               0.377293\n",
      "GOOG               0.4                0.323619               0.000369\n",
      "MSFT              0.25                0.214942               0.371549\n",
      "NFLX               0.2                0.134983               0.250789\n"
     ]
    }
   ],
   "source": [
    "if carteiras_melhores['pesos'] != []:\n",
    "    print(tab_comparacao)\n",
    "else:\n",
    "    print('Não foram encontradas carteiras melhores')"
   ]
  },
  {
   "cell_type": "code",
   "execution_count": null,
   "id": "a848d766",
   "metadata": {},
   "outputs": [],
   "source": []
  }
 ],
 "metadata": {
  "kernelspec": {
   "display_name": "Python 3 (ipykernel)",
   "language": "python",
   "name": "python3"
  },
  "language_info": {
   "codemirror_mode": {
    "name": "ipython",
    "version": 3
   },
   "file_extension": ".py",
   "mimetype": "text/x-python",
   "name": "python",
   "nbconvert_exporter": "python",
   "pygments_lexer": "ipython3",
   "version": "3.9.13"
  }
 },
 "nbformat": 4,
 "nbformat_minor": 5
}
